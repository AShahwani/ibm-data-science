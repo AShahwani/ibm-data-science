{
    "nbformat_minor": 1, 
    "cells": [
        {
            "source": "# My Jupyter Notebook on IBM Data Science Experience", 
            "cell_type": "markdown", 
            "metadata": {
                "collapsed": true
            }
        }, 
        {
            "source": "**Abdullah Shahwani**\n\nCommunication & Information Technology Engineer", 
            "cell_type": "markdown", 
            "metadata": {}
        }, 
        {
            "source": "_I am interested in data science because it is relevant to my academic and professional experience and desired career path._", 
            "cell_type": "markdown", 
            "metadata": {}
        }, 
        {
            "source": "### My code is trying to print even number uptil and including 20.", 
            "cell_type": "markdown", 
            "metadata": {}
        }, 
        {
            "execution_count": 12, 
            "cell_type": "code", 
            "metadata": {}, 
            "outputs": [
                {
                    "output_type": "stream", 
                    "name": "stdout", 
                    "text": "2\n4\n6\n8\n10\n12\n14\n16\n18\n20\n"
                }
            ], 
            "source": "k=0\nwhile k<20:\n    k+=2\n    print (k)"
        }, 
        {
            "source": "## My unordered list\n<ul>\n    <li>I love eating fruits.</li>\n    <li>I love  to cycle.</li>\n    <li>I like warm clothes like jackets!</li>\n</ul>\n\n\n## My university\n<a href=\"http://www.unibremen.de\">University of Bremen</a>\n\n\n## A table\n<table style=\"width:50%\">\n  <tr>\n    <th>Semester</th>\n    <th>Begin</th> \n    <th>End</th>\n  </tr>\n  <tr>\n    <td>Summer</td>\n    <td>April</td> \n    <td>September</td>\n  </tr>\n  <tr>\n    <td>Winter</td>\n    <td>October</td> \n    <td>March</td>\n  </tr>\n</table>", 
            "cell_type": "markdown", 
            "metadata": {}
        }, 
        {
            "execution_count": null, 
            "cell_type": "code", 
            "metadata": {}, 
            "outputs": [], 
            "source": ""
        }
    ], 
    "metadata": {
        "kernelspec": {
            "display_name": "Python 3.5 with Spark", 
            "name": "python3", 
            "language": "python3"
        }, 
        "language_info": {
            "mimetype": "text/x-python", 
            "nbconvert_exporter": "python", 
            "version": "3.5.4", 
            "name": "python", 
            "file_extension": ".py", 
            "pygments_lexer": "ipython3", 
            "codemirror_mode": {
                "version": 3, 
                "name": "ipython"
            }
        }
    }, 
    "nbformat": 4
}